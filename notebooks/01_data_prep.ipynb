{
  "nbformat": 4,
  "nbformat_minor": 0,
  "metadata": {
    "colab": {
      "provenance": []
    },
    "kernelspec": {
      "name": "python3",
      "display_name": "Python 3"
    },
    "language_info": {
      "name": "python"
    }
  },
  "cells": [
    {
      "cell_type": "markdown",
      "source": [
        "# Phishing SMS : CoPhi @ SJTU\n",
        "**Author**: Napassorn LITCHIOWONG (Pleng/林艺文)\n",
        "pleng@u.nus.edu"
      ],
      "metadata": {
        "id": "oBhCCtZ-kE6c"
      }
    },
    {
      "cell_type": "markdown",
      "source": [
        "Splitted data already provided on the repo, **you don't need to run this notebook again**. Data will be saved to /content/drive/MyDrive/sms-baselines/data\n"
      ],
      "metadata": {
        "id": "wTxcwwp-kDWN"
      }
    },
    {
      "cell_type": "code",
      "source": [
        "import os, pandas as pd\n",
        "from sklearn.model_selection import train_test_split\n",
        "raw_path = \"/content/drive/MyDrive/sms-baselines/data/raw/mendeley.csv\"\n",
        "if not os.path.exists(raw_path):\n",
        "    raise FileNotFoundError(raw_path + \" not found\")\n",
        "df = pd.read_csv(raw_path)\n",
        "if df.shape[1] < 2:\n",
        "    raise ValueError(\"Expected at least two columns in the CSV\")\n",
        "df = df.iloc[:, :2].copy()\n",
        "df.columns = [\"label\", \"text\"]\n",
        "df['label'] = df['label'].astype(str).str.strip().str.lower()\n",
        "df['text'] = df['text'].astype(str).str.strip()\n",
        "df = df.dropna(subset=['text','label']).reset_index(drop=True)\n",
        "os.makedirs(\"/content/drive/MyDrive/sms-baselines/data/splits\", exist_ok=True)\n",
        "train_df, test_df = train_test_split(df, test_size=0.2, stratify=df['label'], random_state=42)\n",
        "train_df.to_csv(\"/content/drive/MyDrive/sms-baselines/data/splits/train.csv\", index=False)\n",
        "test_df.to_csv(\"/content/drive/MyDrive/sms-baselines/data/splits/test.csv\", index=False)\n",
        "print(\"train\", len(train_df), \"test\", len(test_df))\n"
      ],
      "metadata": {
        "colab": {
          "base_uri": "https://localhost:8080/"
        },
        "id": "i5d-VtRHxQAL",
        "outputId": "bb25fe2f-c434-49f9-ca97-12d6c495e4e3"
      },
      "execution_count": null,
      "outputs": [
        {
          "output_type": "stream",
          "name": "stdout",
          "text": [
            "train 4776 test 1195\n"
          ]
        }
      ]
    },
    {
      "cell_type": "code",
      "source": [
        "import json, os, datetime, pandas as pd\n",
        "train = pd.read_csv(\"/content/drive/MyDrive/sms-baselines/data/splits/train.csv\")\n",
        "test = pd.read_csv(\"/content/drive/MyDrive/sms-baselines/data/splits/test.csv\")\n",
        "manifest = {\n",
        "  \"created_at\": datetime.datetime.utcnow().isoformat() + \"Z\",\n",
        "  \"seed\": 42,\n",
        "  \"train_count\": len(train),\n",
        "  \"test_count\": len(test),\n",
        "  \"train_path\": \"/content/drive/MyDrive/sms-baselines/data/splits/train.csv\",\n",
        "  \"test_path\": \"/content/drive/MyDrive/sms-baselines/data/splits/test.csv\"\n",
        "}\n",
        "os.makedirs(\"/content/drive/MyDrive/sms-baselines/data/splits\", exist_ok=True)\n",
        "with open(\"/content/drive/MyDrive/sms-baselines/data/splits/splits_manifest.json\",\"w\") as f:\n",
        "    json.dump(manifest, f, indent=2)\n",
        "print(\"wrote splits_manifest.json\")\n"
      ],
      "metadata": {
        "colab": {
          "base_uri": "https://localhost:8080/"
        },
        "id": "CVMd6WrK6GYY",
        "outputId": "d1f10c38-76a6-4869-9653-1ea7783d9e20"
      },
      "execution_count": null,
      "outputs": [
        {
          "output_type": "stream",
          "name": "stdout",
          "text": [
            "wrote splits_manifest.json\n"
          ]
        },
        {
          "output_type": "stream",
          "name": "stderr",
          "text": [
            "/tmp/ipython-input-564406086.py:5: DeprecationWarning: datetime.datetime.utcnow() is deprecated and scheduled for removal in a future version. Use timezone-aware objects to represent datetimes in UTC: datetime.datetime.now(datetime.UTC).\n",
            "  \"created_at\": datetime.datetime.utcnow().isoformat() + \"Z\",\n"
          ]
        }
      ]
    }
  ]
}